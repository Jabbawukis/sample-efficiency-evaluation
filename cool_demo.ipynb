{
 "cells": [
  {
   "metadata": {},
   "cell_type": "code",
   "source": "%pip install .",
   "id": "6e4c3727323d2d6a",
   "outputs": [],
   "execution_count": null
  },
  {
   "cell_type": "code",
   "id": "initial_id",
   "metadata": {
    "collapsed": true,
    "ExecuteTime": {
     "end_time": "2024-10-14T16:04:22.679205Z",
     "start_time": "2024-10-14T16:04:20.924633Z"
    }
   },
   "source": [
    "from sample_efficiency_evaluation.fact_matcher import FactMatcherSimpleHeuristic\n",
    "from datasets import load_dataset\n",
    "\n",
    "ds = load_dataset(\"PatrickHaller/pile-10M-words\")"
   ],
   "outputs": [],
   "execution_count": 4
  },
  {
   "metadata": {
    "ExecuteTime": {
     "end_time": "2024-10-14T16:12:14.274380Z",
     "start_time": "2024-10-14T16:12:13.947158Z"
    }
   },
   "cell_type": "code",
   "source": "fact_matcher = FactMatcherSimpleHeuristic(bear_data_path=\"BEAR-main\")",
   "id": "5403c80a5e2b4a",
   "outputs": [],
   "execution_count": 13
  },
  {
   "metadata": {
    "ExecuteTime": {
     "end_time": "2024-10-14T16:09:28.402172Z",
     "start_time": "2024-10-14T16:08:11.124846Z"
    }
   },
   "cell_type": "code",
   "source": [
    "fact_matcher.index_dataset(ds[\"train\"], text_key=\"text\")\n",
    "\n",
    "results = fact_matcher.search_index(\"Angela Merkel\", sub_query=\"chancellor\")\n",
    "\n",
    "print(results)"
   ],
   "id": "7b066f1e2a2bb49",
   "outputs": [
    {
     "name": "stderr",
     "output_type": "stream",
     "text": [
      "Indexing dataset: 100%|██████████| 40338/40338 [00:34<00:00, 1166.27it/s]\n"
     ]
    },
    {
     "name": "stdout",
     "output_type": "stream",
     "text": [
      "Searching index for (Angela Merkel) and (chancellor)\n",
      "[{'content': \"ENGLAND - NOVEMBER 07: In this photo provided by the German Government Press Office (BPA), German Chancellor Angela Merkel and British Prime Minister David Cameron talk during a bilateral meeting at 10 Downing Street on November 7\\n\\n[Getty Images] - LONDON, ENGLAND - NOVEMBER 07: British Prime Minister David Cameron and German Chancellor Angela Merkel are reflected in a mirror as they speak to the press ahead of a bilateral meeting at 10 Downing Street on November 7, in London\\n\\n[MinnPost.com] - BERLIN, Germany — When Barack Obama traveled to the eastern city of Dresden with Angela Merkel in 2009, they stopped at the Frauenkirche, or Church of Our Lady. Leveled by Allied bombing raids in 1945, the towering landmark was painstakingly rebuilt\\n\\n[AOL Energy] - Germany's renewables boom and Chancellora bunch of crazies (and assholes, to a certain extent), but I actually wish Peter Thiel luck and success in his creating man-made, floating independent nation states. Then all these libertarians can go read Atlas Shrugged in their own country and leave us the F alone.\\n\\nWhile this article on Gaudi over at the Atlantic starts out with some typical BS about 'trends' in architecture in the 21st century (I don't think Gehry and the like are really 'trending', at least not as built projects), it is a nice little write up on Gaudi that reminds us he was ill.\\n\\nAIA Consensus Construction Forecast is predicting continued declines in spending for non-residential and commercial projects through the end of the year, with a possible modest recovery in 2012. Super -\", 'path': '/3e9fc0cfd0e59c7b6110fe8d6e49686451c548f634881f3e2740cb9fc373c4fd', 'title': '3e9fc0cfd0e59c7b6110fe8d6e49686451c548f634881f3e2740cb9fc373c4fd'}, {'content': \"a result of a double caution in the game.\\n\\nThe Pack and Mountain Lions entered the final overtime and played much of the time on the Pack's side of the field as UCCS shot two times at Pack goalkeeper Tyler Harvey (So., Las Vegas, Nev.) who made two saves in the period and three in the match for the ThunderWolves.\\n\\nFor the match UCCS held 18-17 shots advantage while the Pack led 7-4 on corner kicks.German Chancellor Angela Merkel said Ireland was a 'special case' when it comes to measures about easing its bailout debt burden\\n\\nThe English word 's***storm' has officially been entered the German standard lexicon and their equivalent of the Oxford English Dictionary.\\n\\nDuden Online defines the word as: “Noun, masculine – a storm of protest in a communications medium of the internet, which is associated in part with insulting remarks.”\\n\\nGermans needed a 's***storm' as the term has filled something of a linguistic niche, and has become so commonplace that it was recently used by Chancellor Angela Merkel at a public meeting.\\n\\nAccording to the German news website The Local, “s***storm” became popular following the financial crisis in the eurozone and an online plagiarism scandal which resulted in the then-defence minister Karl-Theodor zu\", 'path': '/b83a7aae76e30ba5e13f269c782bb40e0fd3a84f520ddc5e5a6f1d30818c381c', 'title': 'b83a7aae76e30ba5e13f269c782bb40e0fd3a84f520ddc5e5a6f1d30818c381c'}, {'content': 'Merkel tells young Europeans to move to find work By Stephen Evans\\n\\nBBC News, Berlin Published duration 14 June 2013\\n\\nmedia caption Angela Merkel: \"We need more mobility\"\\n\\nChancellor Angela Merkel of Germany has said the 3.6 million or so young unemployed people in the eurozone should be ready to move for work.\\n\\nShe has long been criticised in eurozone countries like Spain and Greece where unemployment is rising to previously unknown levels.\\n\\nIn an interview for the BBC, she said their level of joblessness represented a \"huge crisis\".\\n\\nBut she also resolutely defended the policy of tight controls on spending.\\n\\nWhen unemployment among the young had soared in her own area of East Germany, \"many young people... only had jobs because they moved to the south\", she said.\\n\\nThere would have to be more \"mobility\",Image copyright Lindsay Coulter Image caption Ibrahim Halil Dudu had been in Canada just four days when his skills as a tailor were called on to save a bride\\'s wedding day\\n\\nIt is the nightmare situation that no bride wants on her wedding day: as one of Jo Du\\'s bridesmaids did up the zip on her dress, it broke.\\n\\nJo didn\\'t know it yet, but there was no need to panic.\\n\\nBecause next door was a tailor, a man who had only arrived in Canada days before after fleeing Syria\\'s war-torn violence, unable to speak a word of English.\\n\\nIbrahim Halil Dudu did not hesitate to come to the rescue.\\n\\n\"I was so excited and so happy,\" Ibrahim told CTV News through a translator. \"I like to help Canadian people from my heart.\"\\n\\nHe', 'path': '/40cac6a35e175606818114c5ea442dd434a55cf0ecbb6535a6e7e06b6f2087e2', 'title': '40cac6a35e175606818114c5ea442dd434a55cf0ecbb6535a6e7e06b6f2087e2'}, {'content': 'Social Democrats agree to join chancellor\\'s Union bloc in government, though party members must vote on plan first\\n\\nChancellor Angela Merkel\\'s conservatives and Germany\\'s main centre-left party have reached an overnight deal to form a new government, more than two months after the country\\'s elections.\\n\\nNegotiators from Merkel\\'s Union bloc and the Social Democrats concluded their agreement to form a \"grand coalition\" of Germany\\'s biggest parties after a final all-night round of talks.\\n\\nA hurdle remains before Merkel can be sworn in for a third term: the Social Democrats are putting the agreement to a ballot of their roughly 470,000 members, some of whom are deeply sceptical about becoming the chancellor\\'s junior partner. The result is expected in mid-December.\\n\\nMerkel won the election on 22 September but her partners in Germany\\'s centre-rightgovernment of the past four years, the pro-business Free Democrats, lost all their seats in parliament and her conservatives fell short of a majority to govern alone. That left her reaching across the aisle for a new coalition partner.\\n\\nThe Social Democrats secured key demands such as the introduction of a mandatory national minimum wage, which Germany is unusual among rich industrial powers in lacking. The €8.50 hourly minimum is to be introduced in 2015 but Julia Kloeckner, a deputy leader of Merkel\\'s party, said it would not apply to everyone without exception until the beginning of 2017.\\n\\nIn addition people born and educated in Germany who also hold a passport from a non-European Union country will no longer be obliged to choose one citizenship, a change that will apply', 'path': '/5a6d7fc5a06f4caaebea4b323bfaf7d91672bcfbeeee195e10ab0e1b8cc209e5', 'title': '5a6d7fc5a06f4caaebea4b323bfaf7d91672bcfbeeee195e10ab0e1b8cc209e5'}, {'content': 'DACA, Obama\\'s executive action sparing some young illegal immigrants from deportation, and he doesn\\'t support a path to citizenship. (When I pressed him on this, he said he was for \"some kind of earned status,\" but as for citizenship, \"I don\\'t know that that is a universal demand by anybody.\") While he claims he opposed the shutdown, he wasn\\'t outspoken about ending it.\\n\\n\"The tactic of Democrats in Colorado has been to create a narrative about the Republican candidate six months before the election\"—that they\\'re in the pocket of Big Oil or a social-issues-obsessed ideologue—\"and then opportunistically wait for the Republican to fulfill it,\" says Rob Witwer, a former GOP state legislator who\\'s been close to Gardner since they came to the statehouse together. Past candidates like Tom TancredoOn 14 December in Brussels, Prime Minister Juha Sipilä announced the first-ever recipient of the International Gender Equality Prize introduced by the Finnish Government. The prize goes to Federal Chancellor Angela Merkel of Germany in recognition of her long-standing work as a defender of human dignity and human rights and commitment to women and girls globally. Read more\\n\\nInternational Gender Equality Prize ceremony in Tampere on 6 March\\n\\nFederal Chancellor Angela Merkel of Germany, first-ever recipient of the International Gender Equality Prize introduced by the Finnish Government, is to be honoured at an award ceremony on 6 March in Tampere. An international expert panel on violence against women will be held in connection with the event, and the whole event will be webcast live.', 'path': '/1b0f5fa5c4e1d40760c25accf58a5f161e3f7bfb9f42518991409c2ec1cf30f8', 'title': '1b0f5fa5c4e1d40760c25accf58a5f161e3f7bfb9f42518991409c2ec1cf30f8'}, {'content': 'an effective monopoly over Russia\\'s network of pipelines to Europe, supplying 40 percent of Europe\\'s gas.\\n\\nGerman Chancellor Angela Merkel between a rock and hard place: Trump (L) and Putin (R)\\n\\nGazprom has been forced to lower its prices in recent years to protect its market share in the face of moves by EU member states to buy more gas from Qatar and other producers.\\n\\nThe simultaneous boom in US, mainly shale, gas has also created a new source of cheap supply that is changing energy consumption habits — and geopolitics — globally.\\n\\nThe US Ambassador to Germany Richard Grenell told Bild that Chancellor Angela Merkel had assured US President Donald Trump that Germany wanted to purchase its LNG.\\n\\nTrump in July accused Berlin of being a \"captive\" of Russia due to itsfaces suspicion in Baltics\\n\\nWith its last nuclear plant shutting down in 2023, coal in terminal decline and the phasing out of Dutch gas, Germany faces a medium-term challenge of how to secure stable energy sources and manage the solar and wind plants.\\n\\nOne of the options has been an extension to the Nord Stream pipeline. Germany is the biggest client of Gazprom and the pipeline would double Russian gas exports. But the project faces opposition from the US, Poland and Lithuania and some in Germany.\\n\\nBy the end of the decade the US is expected to have five major LNG export projects operational, becoming the third largest LNG exporter after Qatar and Australia.\\n\\nWatch video 00:21 Trump slams Germany over pipeline at NATO\\n\\njbh/tr (Reuters)', 'path': '/7c3b12613f4c7ff1b66feaa99651140e9801095b8518bd51712dbe923cf84f61', 'title': '7c3b12613f4c7ff1b66feaa99651140e9801095b8518bd51712dbe923cf84f61'}, {'content': 'the number of boosters given had a larger influence on the immune response than the interval between priming and boosters. The greater the number of booster shots given, the less was the production of total and specific antibodies. The decrease in the weight of mice after immunization was also studied in more detail; it was found that it only occurred in the first week after priming but not after a booster injection. The mice aged eight weeks showed the largest weight loss.German multiculturalism \\'failing\\'\\n\\nChancellor\\'s remarks add to ongoing debate over immigration and Islam within her conservative coalition.\\n\\n17 Oct 2010 19:54 GMT\\n\\nMerkel has faced pressure from within her party to take a tougher line on immigrants [Reuters]\\n\\nAngela Merkel, Germany\\'s chancellor, has said that the country\\'s attempt to create a multicultural society has \"utterly failed\", adding fuel to a debate over immigration and Islam which is polarising her conservative coalition.\\n\\nSpeaking to a meeting of young members of her Christian Democrats (CDU), Merkel said allowing people of different cultural backgrounds to live side by side without integrating had not worked in a country that is home to some four million Muslims.\\n\\nThe chancellor has faced pressure from within her party to take a tougher line on immigrants who do not show a willingness', 'path': '/6e92ffcdbc9536fb73b50b08bc0a22113bd7c114ddd736cd562974fbd71a2706', 'title': '6e92ffcdbc9536fb73b50b08bc0a22113bd7c114ddd736cd562974fbd71a2706'}, {'content': \"two emails in which Schwening discusses the golf clubs in connection with work, the only evidence indicative of Hoffman's intent is one email sent in November 2004, over a year after Hoffman gave Schwening the golf clubs. That email stated in its entirety:\\n\\n*879 Bill,\\nWith the St Louis Corps announcement coming out it sure would be nice to have our last contact's (sic) evaluation in the ACASS system. Oh, by the way, how is your golf game since you got those new woods?\\nRuss\\nThe totality of the circumstances involved here included extensive testimony about the friendship between Hoffman and Schwening, which revolved in many respects around golf. It is not uncommon for long-term acquaintances to frequently talk about business and pleasure in the same conversation, and Hoffman and Schwening sometimesJohn McCain is an old political warhorse. The Republican from Arizona reads the Europeans the riot act once a year and delights in his role as the gruff Cassandra of security policy. His appearances at the Munich Security Conference have become part of a transatlantic legend. This year, however, McCain began his speech with remarkable words of praise that he does not usually express: He thanked Chancellor Angela Merkel for her demonstration of leadership.\\n\\nMerkel is losing allies\\n\\nWord has reached the United States that the German Chancellor is under political pressure which could cost the USA a reliable ally and Merkel her office. She did not make an appearance at the security conference this year but her political fate has, nevertheless, been negotiated in Munich and perhaps even determined\", 'path': '/9881a5d0df6ccdcff7555310eaa32c932bf8cead0ca19235e5b55a63ada831e7', 'title': '9881a5d0df6ccdcff7555310eaa32c932bf8cead0ca19235e5b55a63ada831e7'}, {'content': 'German Chancellor Angela Merkel is refusing to rule out European Union sanctions against Venezuela following a meeting with senior opposition figures.\\n\\nMerkel\\'s office said she met briefly Wednesday in Berlin with Julio Borges, president of Venezuela\\'s National Assembly, and Freddy Guevara, the legislature\\'s first vice president. It said Venezuela\\'s current domestic political situation, its \"worrying human rights situation\" and worsening economic conditions in the country were the focus of talks.\\n\\nMerkel pledged to support \"the Venezuelan people and all democratic forces.\" Her office said she \"didn\\'t rule out EU sanctions\" when it came to finding a peaceful solution to the conflict.\\n\\nShe urged President Nicolas Maduro\\'s government to reopen negotiations with the opposition and make good on a promised \"national dialogue\" in Venezuela.As the big European leagues take a week off for the final international break of the year, it’s a good time to praise the players who have stepped up this season\\n\\n10) Philipp Max, Augsburg\\n\\nNot to be confused with Dortmund Borussia forward Maximilian Philipp, Augsburg left-back Philipp Max is enjoying an excellent season with the club. Signed as a replacement for Chelsea-bound Baba Rahman in 2015, the 24-year-old had not really secured his place in the first team until this season but he is realising his potential now.\\n\\nThe full-back is in our Bundesliga team of the season so far, having registered more assists (five) than any other player. His delivery from the left and ability to play as a wing-back will surely make him an interesting proposition for Joachim', 'path': '/b58a9e5ab1817195515d12925adc192d4798f99290c5a2584023efb8f29eb21a', 'title': 'b58a9e5ab1817195515d12925adc192d4798f99290c5a2584023efb8f29eb21a'}, {'content': 'faction in the European Parliament, I again call on the European Commission to mediate between the central government of Spain and the Catalan regional government.\" It is impossible to allow the independence referendum in the 21st century to grow into a state close to civil war,\" Lunacek said.\\n\\nIn turn, German Chancellor Angela Merkel expressed her support to the Prime Minister of Spain, Mariano Rajoy, and fully approved his position on the referendum.although China represents the city on foreign policy matters. Macau\\'s economy is based primarily on its status as a tech and financial sector, as well as its internationally famous casino industry.\\n\\nThe previous legislative election took place in 2009. The pro-democracy camp ANMD+APMD, led by António Ng, received 19.35% of the votes cast, and the next largest party, the pro-establishment camp UPD, received 14.88% in vote with 2 seats while the pro-establishment ACUM received 12.00% with 2 seats. Due to the characteristics of the Macanese election system, only 14 members are directly elected. On 1 July 2013 twenty-two parties have submitted their nominations for the direct election including current incumbents (Kwan Tsui Hang, Chan Meng Kam, António Ng, Paul Chan, Angela Leong, Ho Ion Sang, Au Kam San, José', 'path': '/5467e33791b084d6977bda1e714a02c173c104af74917ed7cf4c987a77abfc75', 'title': '5467e33791b084d6977bda1e714a02c173c104af74917ed7cf4c987a77abfc75'}]\n"
     ]
    }
   ],
   "execution_count": 10
  },
  {
   "metadata": {
    "ExecuteTime": {
     "end_time": "2024-10-14T16:14:12.817508Z",
     "start_time": "2024-10-14T16:12:16.173337Z"
    }
   },
   "cell_type": "code",
   "source": [
    "fact_matcher.index_dataset(ds[\"train\"], text_key=\"text\", split_contents_into_sentences=True)\n",
    "\n",
    "results = fact_matcher.search_index(\"Angela Merkel\", sub_query=\"chancellor\")\n",
    "\n",
    "print(results)"
   ],
   "id": "6c38ef66db9cd730",
   "outputs": [
    {
     "name": "stderr",
     "output_type": "stream",
     "text": [
      "Indexing dataset: 100%|██████████| 40338/40338 [01:31<00:00, 442.70it/s]\n"
     ]
    },
    {
     "name": "stdout",
     "output_type": "stream",
     "text": [
      "Searching index for (Angela Merkel) and (chancellor)\n",
      "[{'content': '\\n\\nAfterher inaugural visit to Paris, German Chancellor Angela Merkel paid a visit to Warsaw.', 'path': '/46d2b3108100e36bbe0a7ac7403389ec2e64413a2e1ed5cc076853d03a95317a', 'title': '46d2b3108100e36bbe0a7ac7403389ec2e64413a2e1ed5cc076853d03a95317a'}, {'content': '\\n\\nGermany\\n\\nAngela Merkel, the chancellor of Germany, embodies the European establishment more than any other politician.', 'path': '/7126c46917781d188dda4deeea850528e4246ac79c0e580ce041555666b98bd3', 'title': '7126c46917781d188dda4deeea850528e4246ac79c0e580ce041555666b98bd3'}, {'content': 'Merkel tells young Europeans to move to find work By Stephen Evans\\n\\nBBC News, Berlin Published duration 14 June 2013\\n\\nmedia caption Angela Merkel: \"We need more mobility\"\\n\\nChancellor Angela Merkel of Germany has said the 3.6 million or so young unemployed people in the eurozone should be ready to move for work.', 'path': '/2d1673540ef0240035ec45f24f5c31a43ead89f4e138e2fbe276c4c000f0aa9a', 'title': '2d1673540ef0240035ec45f24f5c31a43ead89f4e138e2fbe276c4c000f0aa9a'}, {'content': '\\n\\nCalls for an \"intensive\" and \"uncompromising\" investigation into the causes of the tragedy have come from as high up as Germany\\'s Chancellor Angela Merkel and President Christian Wulff.', 'path': '/d5184c1d696c9e7f08edf0d8f9d02fde934f4770dbbe59c6baf9c0ce8e89c657', 'title': 'd5184c1d696c9e7f08edf0d8f9d02fde934f4770dbbe59c6baf9c0ce8e89c657'}, {'content': 'German Chancellor Angela Merkel is refusing to rule out European Union sanctions against Venezuela following a meeting with senior opposition figures.', 'path': '/eed1aaa0f0a9e6d9fb85939e515b425934e7f48ce9fb950bdfb1328d4ea4d70b', 'title': 'eed1aaa0f0a9e6d9fb85939e515b425934e7f48ce9fb950bdfb1328d4ea4d70b'}, {'content': \"Czech Prime Minister Petr Necas shakes hands with German Chancellor Angela Merkel, as EU leaders reach an agreement to solve Europe's debt crisis.\", 'path': '/d7f422e677a9d7630a01cfe642447ffda9d804b6a2dbddd8444b5fca2f8d33e2', 'title': 'd7f422e677a9d7630a01cfe642447ffda9d804b6a2dbddd8444b5fca2f8d33e2'}, {'content': 'the killing of three government troops by pro Moscow rebels a \"serious breach of the ceasefire\", during a telephone call Friday with German Chancellor Angela Merkel, her office said.', 'path': '/116cf4aab04b0515a47c153c630921e1105937dc466d5e363b037b76af35fca8', 'title': '116cf4aab04b0515a47c153c630921e1105937dc466d5e363b037b76af35fca8'}, {'content': 'ENGLAND - NOVEMBER 07: In this photo provided by the German Government Press Office (BPA), German Chancellor Angela Merkel and British Prime Minister David Cameron talk during a bilateral meeting at 10 Downing Street on November 7\\n\\n[Getty Images] - LONDON, ENGLAND - NOVEMBER 07: British Prime Minister David Cameron and German Chancellor Angela Merkel are reflected in a mirror as they speak to the press ahead of a bilateral meeting at 10 Downing Street on November 7, in London\\n\\n[MinnPost.com] - BERLIN, Germany — When Barack Obama traveled to the eastern city of Dresden with Angela Merkel in 2009, they stopped at the Frauenkirche, or Church of Our Lady.', 'path': '/74a4391852012bd63d0d800b19e51ebcee3f673ead1f60d0ff6f411d79d9cc0f', 'title': '74a4391852012bd63d0d800b19e51ebcee3f673ead1f60d0ff6f411d79d9cc0f'}, {'content': '\\n\\nIn turn, German Chancellor Angela Merkel expressed her support to the Prime Minister of Spain, Mariano Rajoy, and fully approved his position on the referendum.although China represents the city on foreign policy matters.', 'path': '/a7abd7eddc6b34fbebde3f573e6e2d9ac18d71591e655741682c5364b2aaf890', 'title': 'a7abd7eddc6b34fbebde3f573e6e2d9ac18d71591e655741682c5364b2aaf890'}, {'content': 'then-ruling grand coalition -- made up of Chancellor Angela Merkel\\'s center-right Christian Democratic Union party and the center-left Social Democratic Party -- declared that it viewed existing regulations aimed at containing the flood of waste as \"in principle sufficient.\"', 'path': '/624ad7846e7df54568fcfc32acddb93f59efc61ebb0b82eb7d8df6f05e4a0b96', 'title': '624ad7846e7df54568fcfc32acddb93f59efc61ebb0b82eb7d8df6f05e4a0b96'}]\n"
     ]
    }
   ],
   "execution_count": 14
  }
 ],
 "metadata": {
  "kernelspec": {
   "display_name": "Python 3",
   "language": "python",
   "name": "python3"
  },
  "language_info": {
   "codemirror_mode": {
    "name": "ipython",
    "version": 2
   },
   "file_extension": ".py",
   "mimetype": "text/x-python",
   "name": "python",
   "nbconvert_exporter": "python",
   "pygments_lexer": "ipython2",
   "version": "2.7.6"
  }
 },
 "nbformat": 4,
 "nbformat_minor": 5
}

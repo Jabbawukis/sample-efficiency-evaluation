{
 "cells": [
  {
   "metadata": {},
   "cell_type": "code",
   "source": "%pip install .",
   "id": "6e4c3727323d2d6a",
   "outputs": [],
   "execution_count": null
  },
  {
   "cell_type": "code",
   "id": "initial_id",
   "metadata": {
    "collapsed": true
   },
   "source": [
    "from sample_efficiency_evaluation.fact_matcher import FactMatcherSimpleHeuristic\n",
    "from datasets import load_dataset\n",
    "\n",
    "ds = load_dataset(\"PatrickHaller/pile-10M-words\")"
   ],
   "outputs": [],
   "execution_count": null
  },
  {
   "metadata": {},
   "cell_type": "code",
   "source": [
    "fact_matcher = FactMatcherSimpleHeuristic(bear_data_path=\"BEAR\")\n",
    "\n",
    "fact_matcher.index_dataset(ds[\"train\"], text_key=\"text\")\n",
    "\n",
    "results = fact_matcher.search_index(\"Angela Merkel\", sub_query=\"chancellor\")\n",
    "\n",
    "fact_matcher.close()\n",
    "\n",
    "print(results)"
   ],
   "id": "6c38ef66db9cd730",
   "outputs": [],
   "execution_count": null
  },
  {
   "metadata": {},
   "cell_type": "code",
   "source": [
    "fact_matcher_loaded = FactMatcherSimpleHeuristic(bear_data_path=\"BEAR\", read_existing_index=True)\n",
    "\n",
    "results = fact_matcher_loaded.search_index(\"Angela Merkel\", sub_query=\"chancellor\")\n",
    "\n",
    "print(results)"
   ],
   "id": "f771a4f4122c3441",
   "outputs": [],
   "execution_count": null
  }
 ],
 "metadata": {
  "kernelspec": {
   "display_name": "Python 3",
   "language": "python",
   "name": "python3"
  },
  "language_info": {
   "codemirror_mode": {
    "name": "ipython",
    "version": 2
   },
   "file_extension": ".py",
   "mimetype": "text/x-python",
   "name": "python",
   "nbconvert_exporter": "python",
   "pygments_lexer": "ipython2",
   "version": "2.7.6"
  }
 },
 "nbformat": 4,
 "nbformat_minor": 5
}
